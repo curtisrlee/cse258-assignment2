{
 "cells": [
  {
   "cell_type": "code",
   "execution_count": 80,
   "id": "33dcfe5e",
   "metadata": {},
   "outputs": [],
   "source": [
    "import gzip\n",
    "import os\n",
    "import multiprocessing as mp\n",
    "import pickle\n",
    "import matplotlib.pyplot as plt\n",
    "import numpy\n",
    "import random\n",
    "import sklearn\n",
    "import string\n",
    "import math\n",
    "import numpy as np\n",
    "import time\n",
    "from collections import defaultdict\n",
    "import scipy.optimize\n",
    "from sklearn import svm\n",
    "from sklearn import linear_model\n",
    "from tensorflow.keras import Model\n",
    "import tensorflow as tf\n",
    "from tqdm import tqdm as progress_bar"
   ]
  },
  {
   "cell_type": "code",
   "execution_count": 6,
   "id": "4c40c090",
   "metadata": {},
   "outputs": [],
   "source": [
    "data_name = 'Clothing_Shoes_and_Jewelry_5'\n",
    "data_file = 'data/%s.json.gz' % data_name\n",
    "batches_folder = 'data/%s' % data_name\n",
    "num_threads = mp.cpu_count()\n",
    "batch_size = 8192"
   ]
  },
  {
   "cell_type": "code",
   "execution_count": 7,
   "id": "ebe8c7e8",
   "metadata": {
    "scrolled": true
   },
   "outputs": [
    {
     "name": "stdout",
     "output_type": "stream",
     "text": [
      "1377\n"
     ]
    }
   ],
   "source": [
    "all_files = os.listdir(batches_folder)\n",
    "all_files = [ os.path.join(batches_folder, name) for name in all_files ]\n",
    "pkl_files = [ name for name in all_files if '.pkl' in name ]\n",
    "pkl_files.sort()\n",
    "print(len(pkl_files))"
   ]
  },
  {
   "cell_type": "code",
   "execution_count": 8,
   "id": "ad8eea0f",
   "metadata": {},
   "outputs": [],
   "source": [
    "def count_entries(pkl_file):\n",
    "    with open(pkl_file, 'rb') as file_read:\n",
    "        items = pickle.load(file_read)\n",
    "    return len(items)"
   ]
  },
  {
   "cell_type": "code",
   "execution_count": 9,
   "id": "86069d16",
   "metadata": {},
   "outputs": [
    {
     "name": "stdout",
     "output_type": "stream",
     "text": [
      "11280384\n"
     ]
    }
   ],
   "source": [
    "with mp.Pool(num_threads) as p:\n",
    "    batch_lens = p.map(count_entries, pkl_files)\n",
    "dataset_len = sum(batch_lens)\n",
    "print(dataset_len)"
   ]
  },
  {
   "cell_type": "code",
   "execution_count": 19,
   "id": "5d6c0554",
   "metadata": {},
   "outputs": [
    {
     "name": "stdout",
     "output_type": "stream",
     "text": [
      "A2IC3NZN488KWK 0871167042 5.0\n"
     ]
    }
   ],
   "source": [
    "with open(pkl_files[0], 'rb') as file_read:\n",
    "    items = pickle.load(file_read)\n",
    "    print(item['reviewerID'], item['asin'], item['overall'])"
   ]
  },
  {
   "cell_type": "code",
   "execution_count": 26,
   "id": "708602d2",
   "metadata": {},
   "outputs": [],
   "source": [
    "def collect_ratings_data(pkl_file):\n",
    "    with open(pkl_file, 'rb') as file_read:\n",
    "        items = pickle.load(file_read)\n",
    "        data = []\n",
    "        for item in items:\n",
    "            u,i,r = item['reviewerID'], item['asin'], item['overall']\n",
    "            data.append((u,i,r))\n",
    "        return data"
   ]
  },
  {
   "cell_type": "code",
   "execution_count": 27,
   "id": "6e7a955d",
   "metadata": {},
   "outputs": [
    {
     "name": "stdout",
     "output_type": "stream",
     "text": [
      "--- 10.99126148223877 seconds ---\n",
      "1377\n"
     ]
    }
   ],
   "source": [
    "start_time = time.time()\n",
    "with mp.Pool(num_threads) as p:\n",
    "    datasets = p.map(collect_ratings_data, pkl_files)\n",
    "print(\"--- %s seconds ---\" % (time.time() - start_time))\n",
    "print(len(datasets))"
   ]
  },
  {
   "cell_type": "code",
   "execution_count": 31,
   "id": "2c0f4eed",
   "metadata": {},
   "outputs": [
    {
     "data": {
      "text/plain": [
       "11280384"
      ]
     },
     "execution_count": 31,
     "metadata": {},
     "output_type": "execute_result"
    }
   ],
   "source": [
    "dataset_all = []\n",
    "for dataset in datasets:\n",
    "    dataset_all.extend(dataset)\n",
    "len(dataset_all)"
   ]
  },
  {
   "cell_type": "code",
   "execution_count": 36,
   "id": "b4a34977",
   "metadata": {},
   "outputs": [],
   "source": [
    "test_size = math.floor(len(dataset_all) / 10)"
   ]
  },
  {
   "cell_type": "code",
   "execution_count": 41,
   "id": "c835de3d",
   "metadata": {},
   "outputs": [],
   "source": [
    "dataset_train = dataset_all[:-test_size]\n",
    "dataset_test = dataset_all[-test_size:]\n",
    "assert len(dataset_train)+len(dataset_test) == len(dataset_all)"
   ]
  },
  {
   "cell_type": "code",
   "execution_count": 53,
   "id": "aef4eabd",
   "metadata": {},
   "outputs": [],
   "source": [
    "ratingsPerUser = defaultdict(list)\n",
    "ratingsPerItem = defaultdict(list)\n",
    "userIDs = {}\n",
    "itemIDs = {}\n",
    "for u,i,r in dataset_train:\n",
    "    ratingsPerUser[u].append((i,r))\n",
    "    ratingsPerItem[i].append((u,r))\n",
    "    if not u in userIDs: userIDs[u] = len(userIDs)\n",
    "    if not i in itemIDs: itemIDs[i] = len(itemIDs)"
   ]
  },
  {
   "cell_type": "code",
   "execution_count": 46,
   "id": "93d0e3b4",
   "metadata": {},
   "outputs": [
    {
     "name": "stdout",
     "output_type": "stream",
     "text": [
      "4.28446036019655\n"
     ]
    }
   ],
   "source": [
    "trainRatings = [r[2] for r in dataset_train]\n",
    "globalAverage = sum(trainRatings) * 1.0 / len(trainRatings)\n",
    "print(globalAverage)"
   ]
  },
  {
   "cell_type": "code",
   "execution_count": 54,
   "id": "052faf74",
   "metadata": {},
   "outputs": [],
   "source": [
    "mu = globalAverage"
   ]
  },
  {
   "cell_type": "code",
   "execution_count": 59,
   "id": "905248e4",
   "metadata": {},
   "outputs": [],
   "source": [
    "# Gradient descent optimizer, experiment with learning rate\n",
    "optimizer = tf.keras.optimizers.Adam(0.001)"
   ]
  },
  {
   "cell_type": "code",
   "execution_count": 55,
   "id": "a45360d3",
   "metadata": {},
   "outputs": [],
   "source": [
    "class LatentFactorModel(tf.keras.Model):\n",
    "    def __init__(self, mu, K, lamb):\n",
    "        super(LatentFactorModel, self).__init__()\n",
    "        # Initialize to average\n",
    "        self.alpha = tf.Variable(mu)\n",
    "        # Initialize to small random values\n",
    "        self.betaU = tf.Variable(tf.random.normal([len(userIDs)],stddev=0.001))\n",
    "        self.betaI = tf.Variable(tf.random.normal([len(itemIDs)],stddev=0.001))\n",
    "        self.gammaU = tf.Variable(tf.random.normal([len(userIDs),K],stddev=0.001))\n",
    "        self.gammaI = tf.Variable(tf.random.normal([len(itemIDs),K],stddev=0.001))\n",
    "        self.lamb = lamb\n",
    "\n",
    "    # Prediction for a single instance (useful for evaluation)\n",
    "    def predict(self, u, i):\n",
    "        p = self.alpha + self.betaU[u] + self.betaI[i] +\\\n",
    "            tf.tensordot(self.gammaU[u], self.gammaI[i], 1)\n",
    "        return p\n",
    "\n",
    "    # Regularizer\n",
    "    def reg(self):\n",
    "        return self.lamb * tf.reduce_sum(self.betaU**2) +\\\n",
    "                           tf.reduce_sum(self.betaI**2) +\\\n",
    "                           tf.reduce_sum(self.gammaU**2) +\\\n",
    "                           tf.reduce_sum(self.gammaI**2)\n",
    "    \n",
    "    # Prediction for a sample of instances\n",
    "    def predictSample(self, sampleU, sampleI):\n",
    "        u = tf.convert_to_tensor(sampleU, dtype=tf.int32)\n",
    "        i = tf.convert_to_tensor(sampleI, dtype=tf.int32)\n",
    "        beta_u = tf.nn.embedding_lookup(self.betaU, u)\n",
    "        beta_i = tf.nn.embedding_lookup(self.betaI, i)\n",
    "        gamma_u = tf.nn.embedding_lookup(self.gammaU, u)\n",
    "        gamma_i = tf.nn.embedding_lookup(self.gammaI, i)\n",
    "        pred = self.alpha + beta_u + beta_i +\\\n",
    "               tf.reduce_sum(tf.multiply(gamma_u, gamma_i), 1)\n",
    "        return pred\n",
    "    \n",
    "    # Loss\n",
    "    def call(self, sampleU, sampleI, sampleR):\n",
    "        pred = self.predictSample(sampleU, sampleI)\n",
    "        r = tf.convert_to_tensor(sampleR, dtype=tf.float32)\n",
    "        return tf.nn.l2_loss(pred - r) / len(sampleR)"
   ]
  },
  {
   "cell_type": "code",
   "execution_count": 56,
   "id": "b35c2cd7",
   "metadata": {},
   "outputs": [],
   "source": [
    "# Experiment with number of factors and regularization rate\n",
    "model = LatentFactorModel(mu, 5, 0.00001)"
   ]
  },
  {
   "cell_type": "code",
   "execution_count": 57,
   "id": "e8f1d414",
   "metadata": {},
   "outputs": [],
   "source": [
    "def trainingStep(interactions):\n",
    "    Nsamples = 50000\n",
    "    with tf.GradientTape() as tape:\n",
    "        sampleU, sampleI, sampleR = [], [], []\n",
    "        for _ in range(Nsamples):\n",
    "            u,i,r = random.choice(interactions)\n",
    "            sampleU.append(userIDs[u])\n",
    "            sampleI.append(itemIDs[i])\n",
    "            sampleR.append(r)\n",
    "\n",
    "        loss = model(sampleU,sampleI,sampleR)\n",
    "        loss += model.reg()\n",
    "    gradients = tape.gradient(loss, model.trainable_variables)\n",
    "    optimizer.apply_gradients((grad, var) for\n",
    "                              (grad, var) in zip(gradients, model.trainable_variables)\n",
    "                              if grad is not None)\n",
    "    return loss.numpy()"
   ]
  },
  {
   "cell_type": "code",
   "execution_count": 83,
   "id": "0e3f4df1",
   "metadata": {
    "scrolled": true
   },
   "outputs": [
    {
     "name": "stderr",
     "output_type": "stream",
     "text": [
      "100%|█████████████████████████████████████████████████████████████████████████████████████████████████████████| 100/100 [01:35<00:00,  1.05it/s]"
     ]
    },
    {
     "name": "stdout",
     "output_type": "stream",
     "text": [
      "objective = 0.6267273\n"
     ]
    },
    {
     "name": "stderr",
     "output_type": "stream",
     "text": [
      "\n"
     ]
    }
   ],
   "source": [
    "# 10 iterations of gradient descent\n",
    "iterations = 100\n",
    "for i in progress_bar(range(iterations), total=iterations):\n",
    "    obj = trainingStep(dataset_train)\n",
    "#     print(\"iteration \" + str(i) + \", objective = \" + str(obj))\n",
    "print(\"objective = \" + str(obj))"
   ]
  },
  {
   "cell_type": "code",
   "execution_count": 74,
   "id": "e689ae3f",
   "metadata": {},
   "outputs": [
    {
     "data": {
      "text/plain": [
       "('A732TT5ECI6KS', 'B00CXFL96Y', 4.0)"
      ]
     },
     "execution_count": 74,
     "metadata": {},
     "output_type": "execute_result"
    }
   ],
   "source": [
    "dataset_test[0]"
   ]
  },
  {
   "cell_type": "code",
   "execution_count": 75,
   "id": "d7cc9a89",
   "metadata": {},
   "outputs": [
    {
     "data": {
      "text/plain": [
       "('A732TT5ECI6KS', 'B00CXFL96Y')"
      ]
     },
     "execution_count": 75,
     "metadata": {},
     "output_type": "execute_result"
    }
   ],
   "source": [
    "dataset_test[0][:2]"
   ]
  },
  {
   "cell_type": "code",
   "execution_count": 76,
   "id": "602cfde3",
   "metadata": {},
   "outputs": [
    {
     "data": {
      "text/plain": [
       "4.313864"
      ]
     },
     "execution_count": 76,
     "metadata": {},
     "output_type": "execute_result"
    }
   ],
   "source": [
    "u_encoded = userIDs[dataset_test[0][0]]\n",
    "i_encoded = itemIDs[dataset_test[0][1]]\n",
    "model.predict(u_encoded, i_encoded).numpy()"
   ]
  },
  {
   "cell_type": "code",
   "execution_count": 88,
   "id": "78f1d52f",
   "metadata": {},
   "outputs": [
    {
     "data": {
      "text/plain": [
       "1128038"
      ]
     },
     "execution_count": 88,
     "metadata": {},
     "output_type": "execute_result"
    }
   ],
   "source": [
    "len(dataset_test)"
   ]
  },
  {
   "cell_type": "code",
   "execution_count": null,
   "id": "e249de60",
   "metadata": {},
   "outputs": [],
   "source": []
  },
  {
   "cell_type": "code",
   "execution_count": 94,
   "id": "2d538ae9",
   "metadata": {},
   "outputs": [
    {
     "name": "stderr",
     "output_type": "stream",
     "text": [
      "100%|█████████████████████████████████████████████████████████████████████████████████████████████████| 10000/10000 [00:00<00:00, 688222.63it/s]\n"
     ]
    }
   ],
   "source": [
    "u_test = []\n",
    "i_test = []\n",
    "for u,i,r in progress_bar(dataset_test[:10000], total=len(dataset_test[:10000])):\n",
    "    try:\n",
    "        u_test.append(userIDs[u])\n",
    "        i_test.append(itemIDs[i])\n",
    "    except KeyError:\n",
    "        continue\n",
    "u_test = np.array(u_test)\n",
    "i_test = np.array(i_test)"
   ]
  },
  {
   "cell_type": "code",
   "execution_count": 101,
   "id": "9412676b",
   "metadata": {
    "scrolled": true
   },
   "outputs": [
    {
     "name": "stderr",
     "output_type": "stream",
     "text": [
      "100%|████████████████████████████████████████████████████████████████████████████████████████████████████| 10000/10000 [00:40<00:00, 244.14it/s]\n"
     ]
    }
   ],
   "source": [
    "r_pred = []\n",
    "r_actual = []\n",
    "for u,i,r in progress_bar(dataset_test[:10000], total=len(dataset_test[:10000])):\n",
    "    try:\n",
    "        u_encoded = userIDs[u]\n",
    "        i_encoded = itemIDs[i]\n",
    "    except KeyError:\n",
    "        continue\n",
    "    r_pred.append(model.predict(u_encoded, i_encoded).numpy())\n",
    "    r_actual.append(r)"
   ]
  },
  {
   "cell_type": "code",
   "execution_count": 102,
   "id": "6ee684f4",
   "metadata": {},
   "outputs": [],
   "source": [
    "r_pred = np.array(r_pred) \n",
    "r_actual = np.array(r_actual)"
   ]
  },
  {
   "cell_type": "code",
   "execution_count": 103,
   "id": "22939087",
   "metadata": {},
   "outputs": [
    {
     "name": "stdout",
     "output_type": "stream",
     "text": [
      "1.3988269350660398\n"
     ]
    }
   ],
   "source": [
    "mse = np.mean(np.square(r_pred-r_actual))\n",
    "print(mse)"
   ]
  },
  {
   "cell_type": "code",
   "execution_count": null,
   "id": "309ed284",
   "metadata": {},
   "outputs": [],
   "source": []
  },
  {
   "cell_type": "code",
   "execution_count": null,
   "id": "8ef48eee",
   "metadata": {},
   "outputs": [],
   "source": []
  },
  {
   "cell_type": "code",
   "execution_count": null,
   "id": "6d32f992",
   "metadata": {},
   "outputs": [],
   "source": []
  },
  {
   "cell_type": "code",
   "execution_count": null,
   "id": "edf02315",
   "metadata": {},
   "outputs": [],
   "source": []
  }
 ],
 "metadata": {
  "kernelspec": {
   "display_name": "base",
   "language": "python",
   "name": "base"
  },
  "language_info": {
   "codemirror_mode": {
    "name": "ipython",
    "version": 3
   },
   "file_extension": ".py",
   "mimetype": "text/x-python",
   "name": "python",
   "nbconvert_exporter": "python",
   "pygments_lexer": "ipython3",
   "version": "3.9.12"
  }
 },
 "nbformat": 4,
 "nbformat_minor": 5
}
