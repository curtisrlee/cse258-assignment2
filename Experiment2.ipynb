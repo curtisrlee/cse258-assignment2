{
 "cells": [
  {
   "cell_type": "code",
   "execution_count": 1,
   "id": "c81facbf",
   "metadata": {},
   "outputs": [],
   "source": [
    "import os\n",
    "os.environ[\"CUDA_VISIBLE_DEVICES\"] = \"-1\""
   ]
  },
  {
   "cell_type": "code",
   "execution_count": 2,
   "id": "33dcfe5e",
   "metadata": {},
   "outputs": [
    {
     "name": "stderr",
     "output_type": "stream",
     "text": [
      "/home/curtis/miniconda3/lib/python3.9/site-packages/scipy/__init__.py:146: UserWarning: A NumPy version >=1.16.5 and <1.23.0 is required for this version of SciPy (detected version 1.23.5\n",
      "  warnings.warn(f\"A NumPy version >={np_minversion} and <{np_maxversion}\"\n",
      "2022-11-30 01:13:31.000751: I tensorflow/stream_executor/platform/default/dso_loader.cc:49] Successfully opened dynamic library libcudart.so.10.1\n"
     ]
    }
   ],
   "source": [
    "import gzip\n",
    "import os\n",
    "import multiprocessing as mp\n",
    "import pickle\n",
    "import matplotlib.pyplot as plt\n",
    "import numpy\n",
    "import random\n",
    "import sklearn\n",
    "import string\n",
    "import math\n",
    "import numpy as np\n",
    "import time\n",
    "from collections import defaultdict\n",
    "import scipy.optimize\n",
    "from sklearn import svm\n",
    "from sklearn import linear_model\n",
    "from tensorflow.keras import Model\n",
    "import tensorflow as tf\n",
    "from tqdm import tqdm as progress_bar"
   ]
  },
  {
   "cell_type": "code",
   "execution_count": 3,
   "id": "4c40c090",
   "metadata": {},
   "outputs": [],
   "source": [
    "data_folder = '../data'\n",
    "data_name = 'Clothing_Shoes_and_Jewelry_5'\n",
    "data_file = os.path.join(data_folder,'%s.json.gz' % data_name)\n",
    "batches_folder = os.path.join(data_folder, '%s' % data_name)\n",
    "num_threads = mp.cpu_count()\n",
    "batch_size = 8192"
   ]
  },
  {
   "cell_type": "code",
   "execution_count": 4,
   "id": "ebe8c7e8",
   "metadata": {
    "scrolled": true
   },
   "outputs": [
    {
     "name": "stdout",
     "output_type": "stream",
     "text": [
      "1377\n"
     ]
    }
   ],
   "source": [
    "all_files = os.listdir(batches_folder)\n",
    "all_files = [ os.path.join(batches_folder, name) for name in all_files ]\n",
    "pkl_files = [ name for name in all_files if '.pkl' in name ]\n",
    "pkl_files.sort()\n",
    "print(len(pkl_files))"
   ]
  },
  {
   "cell_type": "code",
   "execution_count": 5,
   "id": "ad8eea0f",
   "metadata": {},
   "outputs": [],
   "source": [
    "def count_entries(pkl_file):\n",
    "    with open(pkl_file, 'rb') as file_read:\n",
    "        items = pickle.load(file_read)\n",
    "    return len(items)"
   ]
  },
  {
   "cell_type": "code",
   "execution_count": 6,
   "id": "86069d16",
   "metadata": {},
   "outputs": [
    {
     "name": "stdout",
     "output_type": "stream",
     "text": [
      "11280384\n"
     ]
    }
   ],
   "source": [
    "with mp.Pool(num_threads) as p:\n",
    "    batch_lens = p.map(count_entries, pkl_files)\n",
    "dataset_len = sum(batch_lens)\n",
    "print(dataset_len)"
   ]
  },
  {
   "cell_type": "code",
   "execution_count": 7,
   "id": "5d6c0554",
   "metadata": {},
   "outputs": [
    {
     "name": "stdout",
     "output_type": "stream",
     "text": [
      "A2IC3NZN488KWK 0871167042 5.0\n"
     ]
    }
   ],
   "source": [
    "with open(pkl_files[0], 'rb') as file_read:\n",
    "    items = pickle.load(file_read)\n",
    "    item = items[0]\n",
    "    print(item['reviewerID'], item['asin'], item['overall'])"
   ]
  },
  {
   "cell_type": "code",
   "execution_count": 8,
   "id": "708602d2",
   "metadata": {},
   "outputs": [],
   "source": [
    "def collect_ratings_data(pkl_file):\n",
    "    with open(pkl_file, 'rb') as file_read:\n",
    "        items = pickle.load(file_read)\n",
    "        data = []\n",
    "        for item in items:\n",
    "            u,i,r = item['reviewerID'], item['asin'], item['overall']\n",
    "            data.append((u,i,r))\n",
    "        return data"
   ]
  },
  {
   "cell_type": "code",
   "execution_count": 9,
   "id": "6e7a955d",
   "metadata": {},
   "outputs": [
    {
     "name": "stdout",
     "output_type": "stream",
     "text": [
      "--- 5.484969615936279 seconds ---\n",
      "1377\n"
     ]
    }
   ],
   "source": [
    "start_time = time.time()\n",
    "with mp.Pool(num_threads) as p:\n",
    "    datasets = p.map(collect_ratings_data, pkl_files)\n",
    "print(\"--- %s seconds ---\" % (time.time() - start_time))\n",
    "print(len(datasets))"
   ]
  },
  {
   "cell_type": "code",
   "execution_count": 91,
   "id": "2c0f4eed",
   "metadata": {},
   "outputs": [
    {
     "data": {
      "text/plain": [
       "11280384"
      ]
     },
     "execution_count": 91,
     "metadata": {},
     "output_type": "execute_result"
    }
   ],
   "source": [
    "dataset_all = []\n",
    "for dataset in datasets:\n",
    "    dataset_all.extend(dataset)\n",
    "len(dataset_all)"
   ]
  },
  {
   "cell_type": "code",
   "execution_count": 92,
   "id": "b4a34977",
   "metadata": {},
   "outputs": [],
   "source": [
    "test_size = math.floor(len(dataset_all) / 100)"
   ]
  },
  {
   "cell_type": "code",
   "execution_count": 93,
   "id": "c835de3d",
   "metadata": {},
   "outputs": [],
   "source": [
    "dataset_train = dataset_all[:-test_size]\n",
    "dataset_test = dataset_all[-test_size:]\n",
    "assert len(dataset_train)+len(dataset_test) == len(dataset_all)"
   ]
  },
  {
   "cell_type": "code",
   "execution_count": 94,
   "id": "93d0e3b4",
   "metadata": {
    "scrolled": true
   },
   "outputs": [
    {
     "name": "stdout",
     "output_type": "stream",
     "text": [
      "4.2783192707534425\n"
     ]
    }
   ],
   "source": [
    "trainRatings = [r[2] for r in dataset_train]\n",
    "globalAverage = sum(trainRatings) * 1.0 / len(trainRatings)\n",
    "print(globalAverage)"
   ]
  },
  {
   "cell_type": "code",
   "execution_count": 95,
   "id": "618c3627",
   "metadata": {},
   "outputs": [
    {
     "data": {
      "text/plain": [
       "(11167581, 112803)"
      ]
     },
     "execution_count": 95,
     "metadata": {},
     "output_type": "execute_result"
    }
   ],
   "source": [
    "len(dataset_train), len(dataset_test)"
   ]
  },
  {
   "cell_type": "code",
   "execution_count": 96,
   "id": "10a88ce8",
   "metadata": {},
   "outputs": [
    {
     "data": {
      "text/plain": [
       "('A2IC3NZN488KWK', '0871167042', 5.0)"
      ]
     },
     "execution_count": 96,
     "metadata": {},
     "output_type": "execute_result"
    }
   ],
   "source": [
    "dataset_train[0]"
   ]
  },
  {
   "cell_type": "code",
   "execution_count": 97,
   "id": "2eebf6b3",
   "metadata": {},
   "outputs": [],
   "source": [
    "for idx, item in enumerate(dataset_train):\n",
    "    dataset_train[idx] = item[0], item[1], item[2] - globalAverage"
   ]
  },
  {
   "cell_type": "code",
   "execution_count": 98,
   "id": "1731a4c7",
   "metadata": {},
   "outputs": [
    {
     "data": {
      "text/plain": [
       "('A2IC3NZN488KWK', '0871167042', 0.7216807292465575)"
      ]
     },
     "execution_count": 98,
     "metadata": {},
     "output_type": "execute_result"
    }
   ],
   "source": [
    "dataset_train[0]"
   ]
  },
  {
   "cell_type": "code",
   "execution_count": 99,
   "id": "32735b91",
   "metadata": {},
   "outputs": [],
   "source": [
    "for idx, item in enumerate(dataset_test):\n",
    "    dataset_test[idx] = item[0], item[1], item[2] - globalAverage"
   ]
  },
  {
   "cell_type": "code",
   "execution_count": 100,
   "id": "aef4eabd",
   "metadata": {},
   "outputs": [],
   "source": [
    "ratingsPerUser = defaultdict(list)\n",
    "ratingsPerItem = defaultdict(list)\n",
    "userIDs = {}\n",
    "itemIDs = {}\n",
    "for u,i,r in dataset_train:\n",
    "    ratingsPerUser[u].append((i,r))\n",
    "    ratingsPerItem[i].append((u,r))\n",
    "    if not u in userIDs: userIDs[u] = len(userIDs)\n",
    "    if not i in itemIDs: itemIDs[i] = len(itemIDs)\n",
    "with open('cache.pkl', 'wb') as cache_file:\n",
    "    pickle.dump((ratingsPerUser, ratingsPerItem, userIDs, itemIDs), cache_file)"
   ]
  },
  {
   "cell_type": "code",
   "execution_count": 19,
   "id": "4795ed71",
   "metadata": {},
   "outputs": [],
   "source": [
    "with open('cache.pkl', 'rb') as cache_file:\n",
    "    ratingsPerUser, ratingsPerItem, userIDs, itemIDs = pickle.load(cache_file)"
   ]
  },
  {
   "cell_type": "code",
   "execution_count": 101,
   "id": "052faf74",
   "metadata": {},
   "outputs": [],
   "source": [
    "mu = globalAverage"
   ]
  },
  {
   "cell_type": "code",
   "execution_count": 103,
   "id": "a45360d3",
   "metadata": {},
   "outputs": [],
   "source": [
    "class LatentFactorModel(tf.keras.Model):\n",
    "    def __init__(self, mu, K, lamb):\n",
    "        super(LatentFactorModel, self).__init__()\n",
    "        # Initialize to average\n",
    "        self.alpha = tf.Variable(mu)\n",
    "        # Initialize to small random values\n",
    "        self.betaU = tf.Variable(tf.random.normal([len(userIDs)],stddev=0.001))\n",
    "        self.betaI = tf.Variable(tf.random.normal([len(itemIDs)],stddev=0.001))\n",
    "        self.gammaU = tf.Variable(tf.random.normal([len(userIDs),K],stddev=0.001))\n",
    "        self.gammaI = tf.Variable(tf.random.normal([len(itemIDs),K],stddev=0.001))\n",
    "        self.lamb = lamb\n",
    "\n",
    "    # Prediction for a single instance (useful for evaluation)\n",
    "    def predict(self, u, i):\n",
    "        p = self.alpha + self.betaU[u] + self.betaI[i] +\\\n",
    "            tf.tensordot(self.gammaU[u], self.gammaI[i], 1)\n",
    "        return p\n",
    "\n",
    "    # Regularizer\n",
    "    def reg(self):\n",
    "        return self.lamb * tf.reduce_sum(self.betaU**2) +\\\n",
    "                           tf.reduce_sum(self.betaI**2) +\\\n",
    "                           tf.reduce_sum(self.gammaU**2) +\\\n",
    "                           tf.reduce_sum(self.gammaI**2)\n",
    "    \n",
    "    # Prediction for a sample of instances\n",
    "    def predictSample(self, sampleU, sampleI):\n",
    "        u = tf.convert_to_tensor(sampleU, dtype=tf.int32)\n",
    "        i = tf.convert_to_tensor(sampleI, dtype=tf.int32)\n",
    "        beta_u = tf.nn.embedding_lookup(self.betaU, u)\n",
    "        beta_i = tf.nn.embedding_lookup(self.betaI, i)\n",
    "        gamma_u = tf.nn.embedding_lookup(self.gammaU, u)\n",
    "        gamma_i = tf.nn.embedding_lookup(self.gammaI, i)\n",
    "        pred = self.alpha + beta_u + beta_i +\\\n",
    "               tf.reduce_sum(tf.multiply(gamma_u, gamma_i), 1)\n",
    "        return pred\n",
    "    \n",
    "    # Loss\n",
    "    def call(self, sampleU, sampleI, sampleR):\n",
    "        pred = self.predictSample(sampleU, sampleI)\n",
    "        r = tf.convert_to_tensor(sampleR, dtype=tf.float32)\n",
    "        return tf.nn.l2_loss(pred - r) / len(sampleR)"
   ]
  },
  {
   "cell_type": "code",
   "execution_count": 105,
   "id": "e8f1d414",
   "metadata": {},
   "outputs": [],
   "source": [
    "def trainingStep(interactions):\n",
    "    Nsamples = 50000\n",
    "    with tf.GradientTape() as tape:\n",
    "        sampleU, sampleI, sampleR = [], [], []\n",
    "        for _ in range(Nsamples):\n",
    "            u,i,r = random.choice(interactions)\n",
    "            sampleU.append(userIDs[u])\n",
    "            sampleI.append(itemIDs[i])\n",
    "            sampleR.append(r)\n",
    "\n",
    "        loss = model(sampleU,sampleI,sampleR)\n",
    "        loss += model.reg()\n",
    "    gradients = tape.gradient(loss, model.trainable_variables)\n",
    "    optimizer.apply_gradients((grad, var) for\n",
    "                              (grad, var) in zip(gradients, model.trainable_variables)\n",
    "                              if grad is not None)\n",
    "    return loss.numpy()"
   ]
  },
  {
   "cell_type": "code",
   "execution_count": 121,
   "id": "2d538ae9",
   "metadata": {},
   "outputs": [
    {
     "name": "stderr",
     "output_type": "stream",
     "text": [
      "100%|███████████████████████████████████████████████████████████████████████████████████████████████| 112803/112803 [00:00<00:00, 748855.78it/s]\n"
     ]
    }
   ],
   "source": [
    "u_test = []\n",
    "i_test = []\n",
    "r_actual = []\n",
    "for u,i,r in progress_bar(dataset_test, total=len(dataset_test)):\n",
    "    if u not in userIDs or i not in itemIDs:\n",
    "            continue\n",
    "    else:\n",
    "        u_test.append(userIDs[u])\n",
    "        i_test.append(itemIDs[i])\n",
    "        r_actual.append(r)\n",
    "u_test = np.array(u_test)\n",
    "i_test = np.array(i_test)\n",
    "r_actual = np.array(r_actual)"
   ]
  },
  {
   "cell_type": "code",
   "execution_count": 146,
   "id": "905248e4",
   "metadata": {},
   "outputs": [],
   "source": [
    "# Gradient descent optimizer, experiment with learning rate\n",
    "optimizer = tf.keras.optimizers.Adam(0.1)"
   ]
  },
  {
   "cell_type": "code",
   "execution_count": 147,
   "id": "b35c2cd7",
   "metadata": {},
   "outputs": [],
   "source": [
    "# Experiment with number of factors and regularization rate\n",
    "model = LatentFactorModel(mu, 5, 0.0001)"
   ]
  },
  {
   "cell_type": "code",
   "execution_count": null,
   "id": "0e3f4df1",
   "metadata": {
    "scrolled": false
   },
   "outputs": [
    {
     "name": "stderr",
     "output_type": "stream",
     "text": [
      " 91%|████████████████████████████████████████████████████████████████████████████▍       | 91/100 [01:16<00:06,  1.42it/s, obj=5.75, test:=1.53]"
     ]
    }
   ],
   "source": [
    "# 10 iterations of gradient descent\n",
    "iterations = 80\n",
    "pbar = progress_bar(range(iterations), total=iterations)\n",
    "for i in pbar:\n",
    "    obj = trainingStep(dataset_train)\n",
    "    \n",
    "    r_pred = model.predictSample(u_test, i_test).numpy()\n",
    "    mse = np.mean(np.square(r_pred-r_actual))\n",
    "    \n",
    "    pbar.set_postfix({'obj': obj, 'test:': mse})\n",
    "    \n",
    "#     print(\"iteration \" + str(i) + \", objective = \" + str(obj))\n",
    "print(\"objective = \" + str(obj))"
   ]
  },
  {
   "cell_type": "code",
   "execution_count": 143,
   "id": "7b31976c",
   "metadata": {},
   "outputs": [
    {
     "name": "stdout",
     "output_type": "stream",
     "text": [
      "3.3660921940560753\n"
     ]
    }
   ],
   "source": [
    "r_pred = model.predictSample(u_test, i_test).numpy()\n",
    "mse = np.mean(np.square(r_pred-r_actual))\n",
    "print(mse)"
   ]
  },
  {
   "cell_type": "code",
   "execution_count": 144,
   "id": "309ed284",
   "metadata": {},
   "outputs": [
    {
     "name": "stdout",
     "output_type": "stream",
     "text": [
      "20.92197617152311\n"
     ]
    }
   ],
   "source": [
    "baseline = np.mean(np.square( r_actual - globalAverage ))\n",
    "print(baseline)"
   ]
  },
  {
   "cell_type": "code",
   "execution_count": null,
   "id": "8ef48eee",
   "metadata": {},
   "outputs": [],
   "source": []
  },
  {
   "cell_type": "code",
   "execution_count": null,
   "id": "6d32f992",
   "metadata": {},
   "outputs": [],
   "source": []
  },
  {
   "cell_type": "code",
   "execution_count": null,
   "id": "edf02315",
   "metadata": {},
   "outputs": [],
   "source": []
  }
 ],
 "metadata": {
  "kernelspec": {
   "display_name": "base",
   "language": "python",
   "name": "base"
  },
  "language_info": {
   "codemirror_mode": {
    "name": "ipython",
    "version": 3
   },
   "file_extension": ".py",
   "mimetype": "text/x-python",
   "name": "python",
   "nbconvert_exporter": "python",
   "pygments_lexer": "ipython3",
   "version": "3.9.12"
  }
 },
 "nbformat": 4,
 "nbformat_minor": 5
}
