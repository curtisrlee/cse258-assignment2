{
 "cells": [
  {
   "cell_type": "code",
   "execution_count": 1,
   "metadata": {},
   "outputs": [],
   "source": [
    "import os\n",
    "import json\n",
    "import gzip\n",
    "import pandas as pd\n",
    "from collections import defaultdict\n",
    "import math\n",
    "import scipy.optimize\n",
    "from sklearn import svm\n",
    "import numpy\n",
    "import string\n",
    "import random\n",
    "import string\n",
    "from sklearn import linear_model\n",
    "import warnings\n",
    "from dateutil import parser\n",
    "import matplotlib.pyplot as plt"
   ]
  },
  {
   "cell_type": "code",
   "execution_count": 2,
   "metadata": {},
   "outputs": [],
   "source": [
    "### load the meta data\n",
    "\n",
    "data = []\n",
    "with gzip.open('datasets/Kindle_Store_5.json.gz') as f:\n",
    "    for l in f:\n",
    "        data.append(json.loads(l.strip()))"
   ]
  },
  {
   "cell_type": "code",
   "execution_count": 3,
   "metadata": {},
   "outputs": [],
   "source": [
    "random.shuffle(data)\n",
    "\n",
    "train_data = data[:len(data)//2]\n",
    "valid_data = data[len(data)//2:(3*(len(data)//4))]\n",
    "test_data = data[(3*(len(data)//4)):]"
   ]
  },
  {
   "cell_type": "code",
   "execution_count": 4,
   "metadata": {},
   "outputs": [],
   "source": [
    "def data_latent_form(entry):\n",
    "    return [entry['reviewerID'], entry['asin'], entry['overall']]"
   ]
  },
  {
   "cell_type": "code",
   "execution_count": 5,
   "metadata": {},
   "outputs": [],
   "source": [
    "train_data_latent = []\n",
    "for d in train_data:\n",
    "    train_data_latent.append(data_latent_form(d))\n",
    "\n",
    "valid_data_latent = []\n",
    "for d in valid_data:\n",
    "    valid_data_latent.append(data_latent_form(d))\n",
    "\n",
    "test_data_latent = []\n",
    "for d in test_data:\n",
    "    test_data_latent.append(data_latent_form(d))"
   ]
  },
  {
   "cell_type": "code",
   "execution_count": 6,
   "metadata": {},
   "outputs": [],
   "source": [
    "ratings = []\n",
    "for u,b,r in train_data_latent:\n",
    "    ratings.append(int(r))"
   ]
  },
  {
   "cell_type": "code",
   "execution_count": 10,
   "metadata": {},
   "outputs": [],
   "source": [
    "userRatings = defaultdict(list)\n",
    "allRatings = []\n",
    "for _,_,r in train_data_latent:\n",
    "  r = int(r)\n",
    "  allRatings.append(r)\n",
    "\n",
    "globalAverage = sum(allRatings) / len(allRatings)\n",
    "\n",
    "allRatings = []\n",
    "for l in train_data_latent:\n",
    "    allRatings.append(l)\n",
    "\n",
    "reg = 10\n",
    "MSE = 100\n",
    "\n",
    "for reg_param in [0.0001, 0.001, 0.01, 0.1, 1, 10, 100, 1000]:\n",
    "    beta_u = defaultdict(int)\n",
    "    beta_i = defaultdict(int)\n",
    "    gamma_u = defaultdict(list)\n",
    "    gamma_i = defaultdict(list)\n",
    "    alpha = 0\n",
    "    numberOfFeatures = 5\n",
    "    for u,b,_ in allRatings:\n",
    "        if not beta_u[u]: beta_u[u] = 0\n",
    "        if not beta_i[b]: beta_i[b] = 0\n",
    "        if not gamma_u[u]: gamma_u[u] = [0] * numberOfFeatures\n",
    "        if not gamma_i[b]: gamma_i[b] = [0] * numberOfFeatures\n",
    "\n",
    "    booksPerUser = defaultdict(set)\n",
    "    usersPerBook = defaultdict(set)\n",
    "    training_count = 0\n",
    "    alpha_temp = 0\n",
    "    beta_u_temp = 0\n",
    "    beta_i_temp = 0\n",
    "    \n",
    "    for u,b,r in allRatings:\n",
    "        gamma_prod = 0\n",
    "        for j in range(len(gamma_u[u])):\n",
    "            gamma_prod += (gamma_u[u][j] * gamma_i[b][j])\n",
    "        r_pred = alpha + beta_u[u] + beta_i[b] + gamma_prod\n",
    "        alpha_temp = ((training_count * alpha) + (r - r_pred + alpha))\n",
    "        training_count += 1\n",
    "        alpha_temp /=  training_count\n",
    "        beta_u_temp = (((reg_param + len(booksPerUser[u])) * beta_u[u]) + (r - r_pred + beta_u[u]))\n",
    "        beta_u_temp /= (reg_param + len(booksPerUser[u]) + 1)\n",
    "        beta_i_temp = (((reg_param + len(usersPerBook[b])) * beta_i[b]) + (r - r_pred + beta_i[b]))\n",
    "        beta_i_temp /= (reg_param + len(usersPerBook[b]) + 1)\n",
    "        gamma_u_temp = []\n",
    "        gamma_i_temp = []\n",
    "        for j in range(len(gamma_u[u])):\n",
    "            \n",
    "            temp_u = (((reg_param + (len(booksPerUser[u]) * (gamma_i[b][j] ** 2))) * gamma_u[u][j]) + \n",
    "                    (gamma_i[b][j] * (r - r_pred + (gamma_u[u][j] * gamma_i[b][j]))))\n",
    "            temp_i = (((reg_param + (len(usersPerBook[b]) * (gamma_u[u][j] ** 2))) * gamma_i[b][j]) + \n",
    "                    (gamma_u[u][j] * (r - r_pred + (gamma_u[u][j] * gamma_i[b][j]))))\n",
    "            temp_u /= (reg_param + ((len(booksPerUser[u]) + 1) * (gamma_i[b][j] ** 2)))\n",
    "            temp_i /= (reg_param + ((len(usersPerBook[b]) + 1) * (gamma_u[u][j] ** 2)))\n",
    "            \n",
    "            gamma_u_temp.append(temp_u)\n",
    "            gamma_i_temp.append(temp_i)\n",
    "        \n",
    "        booksPerUser[u].add(b)\n",
    "        usersPerBook[b].add(u)\n",
    "        alpha = alpha_temp\n",
    "        beta_u[u] = beta_u_temp\n",
    "        beta_i[b] = beta_i_temp\n",
    "        for j in range(len(gamma_u[u])):\n",
    "            gamma_u[u][j] = gamma_u_temp[j]\n",
    "            gamma_i[b][j] = gamma_i_temp[j]\n",
    "    y  = []\n",
    "    ypred = []\n",
    "    for u,b,r in valid_data_latent:\n",
    "        y.append(r)\n",
    "        if u in beta_u and b in beta_i:\n",
    "            gamma_prod = 0\n",
    "            for j in range(len(gamma_u[u])):\n",
    "                gamma_prod += (gamma_u[u][j] * gamma_i[b][j])\n",
    "            ypred.append(alpha + beta_u[u] + beta_i[b] + gamma_prod)\n",
    "        elif u in beta_u and not b in beta_i:\n",
    "            ypred.append(alpha + beta_u[u])\n",
    "        elif not u in beta_u and b in beta_i:\n",
    "            ypred.append(alpha + beta_i[b])\n",
    "        else:\n",
    "            ypred.append(globalAverage)\n",
    "        if ypred[-1] < 0 or ypred[-1] > 5:\n",
    "            if ypred[-1] < 0: ypred[-1] = 0\n",
    "            else: ypred[-1] = 5\n",
    "        ypred[-1] = round(ypred[-1])\n",
    "    y = numpy.array(y)\n",
    "    ypred = numpy.array(ypred)\n",
    "    validMSE = numpy.asarray(sum([x**2 for x in (y - ypred)])) / len(y)\n",
    "    if validMSE < MSE:\n",
    "        reg = reg_param\n",
    "        MSE = validMSE\n"
   ]
  },
  {
   "cell_type": "code",
   "execution_count": 11,
   "metadata": {},
   "outputs": [
    {
     "name": "stdout",
     "output_type": "stream",
     "text": [
      "1.009194814916113\n",
      "1\n"
     ]
    }
   ],
   "source": [
    "y = []\n",
    "ypred = []\n",
    "for u,b,r in test_data_latent:\n",
    "    y.append(r)\n",
    "    if u in beta_u and b in beta_i:\n",
    "        gamma_prod = 0\n",
    "        for j in range(len(gamma_u[u])):\n",
    "            gamma_prod += (gamma_u[u][j] * gamma_i[b][j])\n",
    "        ypred.append(alpha + beta_u[u] + beta_i[b] + gamma_prod)\n",
    "    elif u in beta_u and not b in beta_i:\n",
    "        ypred.append(alpha + beta_u[u])\n",
    "    elif not u in beta_u and b in beta_i:\n",
    "        ypred.append(alpha + beta_i[b])\n",
    "    else:\n",
    "        ypred.append(globalAverage)\n",
    "    if ypred[-1] < 0 or ypred[-1] > 5:\n",
    "        if ypred[-1] < 0: ypred[-1] = 0\n",
    "        else: ypred[-1] = 5\n",
    "    ypred[-1] = round(ypred[-1])\n",
    "y = numpy.array(y)\n",
    "ypred = numpy.array(ypred)\n",
    "testMSE = numpy.asarray(sum([x**2 for x in (y - ypred)])) / len(y)\n",
    "print(testMSE)\n",
    "print(reg)"
   ]
  },
  {
   "cell_type": "code",
   "execution_count": 12,
   "metadata": {},
   "outputs": [],
   "source": [
    "unverified = []\n",
    "verified = []\n",
    "for d in train_data:\n",
    "    if d['verified']: verified.append(d)\n",
    "    else: unverified.append(d)"
   ]
  },
  {
   "cell_type": "code",
   "execution_count": 13,
   "metadata": {},
   "outputs": [
    {
     "name": "stdout",
     "output_type": "stream",
     "text": [
      "402617\n",
      "708874\n",
      "1111491\n"
     ]
    }
   ],
   "source": [
    "ratings_verified = []\n",
    "ratings_unverified = []\n",
    "for d in verified:\n",
    "    ratings_verified.append(d['overall'])\n",
    "for d in unverified:\n",
    "    ratings_unverified.append(d['overall'])\n",
    "print(len(ratings_unverified))\n",
    "print(len(ratings_verified))\n",
    "print(len(ratings))"
   ]
  },
  {
   "cell_type": "code",
   "execution_count": 14,
   "metadata": {},
   "outputs": [
    {
     "name": "stdout",
     "output_type": "stream",
     "text": [
      "23947\n",
      "33308\n",
      "98898\n",
      "278124\n",
      "677214\n",
      "156153\n"
     ]
    }
   ],
   "source": [
    "#Number of each rating\n",
    "\n",
    "ones = 0\n",
    "twos = 0\n",
    "thre = 0\n",
    "four = 0\n",
    "five = 0\n",
    "for r in ratings:\n",
    "    if r == 1: ones+=1\n",
    "    if r == 2: twos+=1\n",
    "    if r == 3: thre+=1\n",
    "    if r == 4: four+=1\n",
    "    if r == 5: five+=1\n",
    "print(ones)\n",
    "print(twos)\n",
    "print(thre)\n",
    "print(four)\n",
    "print(five)\n",
    "print(ones + twos + thre)\n",
    "\n",
    "# Number of ones, twos, and three rating combined is less than fours"
   ]
  },
  {
   "cell_type": "code",
   "execution_count": 15,
   "metadata": {},
   "outputs": [
    {
     "name": "stdout",
     "output_type": "stream",
     "text": [
      "18096\n",
      "24520\n",
      "67554\n",
      "167315\n",
      "431389\n"
     ]
    }
   ],
   "source": [
    "#Number of each rating verified\n",
    "\n",
    "ones = 0\n",
    "twos = 0\n",
    "thre = 0\n",
    "four = 0\n",
    "five = 0\n",
    "for r in ratings_verified:\n",
    "    if r == 1: ones+=1\n",
    "    if r == 2: twos+=1\n",
    "    if r == 3: thre+=1\n",
    "    if r == 4: four+=1\n",
    "    if r == 5: five+=1\n",
    "print(ones)\n",
    "print(twos)\n",
    "print(thre)\n",
    "print(four)\n",
    "print(five)"
   ]
  },
  {
   "cell_type": "code",
   "execution_count": 16,
   "metadata": {},
   "outputs": [
    {
     "name": "stdout",
     "output_type": "stream",
     "text": [
      "5851\n",
      "8788\n",
      "31344\n",
      "110809\n",
      "245825\n"
     ]
    }
   ],
   "source": [
    "#Number of each rating unverified\n",
    "\n",
    "ones = 0\n",
    "twos = 0\n",
    "thre = 0\n",
    "four = 0\n",
    "five = 0\n",
    "for r in ratings_unverified:\n",
    "    if r == 1: ones+=1\n",
    "    if r == 2: twos+=1\n",
    "    if r == 3: thre+=1\n",
    "    if r == 4: four+=1\n",
    "    if r == 5: five+=1\n",
    "print(ones)\n",
    "print(twos)\n",
    "print(thre)\n",
    "print(four)\n",
    "print(five)"
   ]
  },
  {
   "cell_type": "code",
   "execution_count": 17,
   "metadata": {},
   "outputs": [
    {
     "name": "stdout",
     "output_type": "stream",
     "text": [
      "98170\n",
      "138452\n"
     ]
    }
   ],
   "source": [
    "#Number of users and books\n",
    "\n",
    "print(len(usersPerBook))\n",
    "print(len(booksPerUser))"
   ]
  },
  {
   "cell_type": "code",
   "execution_count": 18,
   "metadata": {},
   "outputs": [
    {
     "name": "stdout",
     "output_type": "stream",
     "text": [
      "4.395737797247121\n"
     ]
    }
   ],
   "source": [
    "print(globalAverage)"
   ]
  },
  {
   "cell_type": "markdown",
   "metadata": {},
   "source": [
    "Latent factor model is biased towards 4's and 5's rating due excessive number of these ratings. So it predicts mostly around 4 and 5 rating."
   ]
  },
  {
   "cell_type": "code",
   "execution_count": 19,
   "metadata": {},
   "outputs": [
    {
     "data": {
      "text/plain": [
       "[<matplotlib.lines.Line2D at 0x7fec0d631540>]"
      ]
     },
     "execution_count": 19,
     "metadata": {},
     "output_type": "execute_result"
    },
    {
     "data": {
      "image/png": "[encoded data removed]",
      "text/plain": [
       "<Figure size 640x480 with 1 Axes>"
      ]
     },
     "metadata": {},
     "output_type": "display_data"
    }
   ],
   "source": [
    "usersNumber = [] # List of number of users who read a particular book\n",
    "booksNumber = [] # List of number of books read by a different users\n",
    "for b in booksPerUser:\n",
    "    booksNumber.append(len(booksPerUser[b]))\n",
    "\n",
    "for u in usersPerBook:\n",
    "    usersNumber.append(len(usersPerBook[u]))\n",
    "plt.plot(booksNumber)"
   ]
  },
  {
   "cell_type": "code",
   "execution_count": 20,
   "metadata": {},
   "outputs": [
    {
     "data": {
      "text/plain": [
       "[<matplotlib.lines.Line2D at 0x7fec05b2bac0>]"
      ]
     },
     "execution_count": 20,
     "metadata": {},
     "output_type": "execute_result"
    },
    {
     "data": {
      "image/png": "[encoded data removed]",
      "text/plain": [
       "<Figure size 640x480 with 1 Axes>"
      ]
     },
     "metadata": {},
     "output_type": "display_data"
    }
   ],
   "source": [
    "plt.plot(usersNumber)"
   ]
  },
  {
   "cell_type": "code",
   "execution_count": 21,
   "metadata": {},
   "outputs": [],
   "source": [
    "ratingsOverTime = []\n",
    "for d in train_data:\n",
    "    ratingsOverTime.append([parser.parse(d['reviewTime']), d['overall']])\n",
    "ratingsOverTime.sort()"
   ]
  },
  {
   "cell_type": "code",
   "execution_count": 22,
   "metadata": {},
   "outputs": [
    {
     "data": {
      "text/plain": [
       "[<matplotlib.lines.Line2D at 0x7febf899a800>]"
      ]
     },
     "execution_count": 22,
     "metadata": {},
     "output_type": "execute_result"
    },
    {
     "data": {
      "image/png": "[encoded data removed]",
      "text/plain": [
       "<Figure size 640x480 with 1 Axes>"
      ]
     },
     "metadata": {},
     "output_type": "display_data"
    }
   ],
   "source": [
    "# Don't know why did this\n",
    "\n",
    "ratingsSorted = []\n",
    "globalAverageRating = []\n",
    "avgRating = []\n",
    "for date,r in ratingsOverTime:\n",
    "    ratingsSorted.append(r)\n",
    "ratingSum = 0\n",
    "ratingLen = 1\n",
    "for r in ratingsSorted:\n",
    "    ratingSum += r\n",
    "    avgRating.append(ratingSum / ratingLen)\n",
    "    ratingLen += 1\n",
    "    globalAverageRating.append(globalAverage)\n",
    "plt.plot(avgRating)\n",
    "plt.plot(globalAverageRating)"
   ]
  },
  {
   "cell_type": "code",
   "execution_count": 23,
   "metadata": {},
   "outputs": [],
   "source": [
    "# Ratings using length of review text and summary\n",
    "\n",
    "def feature_q2(datum):\n",
    "    count = 0\n",
    "    count_summ = 0\n",
    "    try:\n",
    "        datum1 = datum['reviewText']\n",
    "        datum2 = datum['summary']\n",
    "        for words in datum1:\n",
    "            if words == ' ': continue\n",
    "            else: count += 1\n",
    "        for words in datum2:\n",
    "            if words == ' ': continue\n",
    "            else: count_summ += 1\n",
    "        return [1] + [count] + [count_summ]\n",
    "    except:\n",
    "        return [1] + [12] + [3]"
   ]
  },
  {
   "cell_type": "code",
   "execution_count": 24,
   "metadata": {},
   "outputs": [
    {
     "name": "stderr",
     "output_type": "stream",
     "text": [
      "/home/amm/.local/lib/python3.10/site-packages/sklearn/utils/validation.py:727: FutureWarning: np.matrix usage is deprecated in 1.0 and will raise a TypeError in 1.2. Please convert to a numpy array with np.asarray. For more information see: https://numpy.org/doc/stable/reference/generated/numpy.matrix.html\n",
      "  warnings.warn(\n",
      "/home/amm/.local/lib/python3.10/site-packages/sklearn/utils/validation.py:727: FutureWarning: np.matrix usage is deprecated in 1.0 and will raise a TypeError in 1.2. Please convert to a numpy array with np.asarray. For more information see: https://numpy.org/doc/stable/reference/generated/numpy.matrix.html\n",
      "  warnings.warn(\n",
      "/home/amm/.local/lib/python3.10/site-packages/sklearn/utils/validation.py:727: FutureWarning: np.matrix usage is deprecated in 1.0 and will raise a TypeError in 1.2. Please convert to a numpy array with np.asarray. For more information see: https://numpy.org/doc/stable/reference/generated/numpy.matrix.html\n",
      "  warnings.warn(\n"
     ]
    }
   ],
   "source": [
    "X_Q2 = numpy.matrix([feature_q2(d) for d in train_data])\n",
    "Y_Q2 = numpy.matrix([d['overall'] for d in train_data]).T\n",
    "model_Q2 = linear_model.LinearRegression(fit_intercept=False)\n",
    "model_Q2.fit(X_Q2,Y_Q2)\n",
    "X_test = numpy.matrix([feature_q2(d) for d in test_data])\n",
    "Y_test = numpy.matrix([d['overall'] for d in test_data]).T\n",
    "y_pred_Q2 = model_Q2.predict(X_test)\n",
    "MSE_Q2 = numpy.asarray((sum([x**2 for x in (Y_test - y_pred_Q2)])) / len(Y_Q2))\n",
    "mse_Q2 = MSE_Q2[0][0]\n"
   ]
  },
  {
   "cell_type": "code",
   "execution_count": 25,
   "metadata": {},
   "outputs": [
    {
     "name": "stdout",
     "output_type": "stream",
     "text": [
      "0.4283153746705394\n"
     ]
    }
   ],
   "source": [
    "print(mse_Q2)"
   ]
  },
  {
   "cell_type": "code",
   "execution_count": null,
   "metadata": {},
   "outputs": [],
   "source": []
  }
 ],
 "metadata": {
  "kernelspec": {
   "display_name": "Python 3.10.6 64-bit",
   "language": "python",
   "name": "python3"
  },
  "language_info": {
   "codemirror_mode": {
    "name": "ipython",
    "version": 3
   },
   "file_extension": ".py",
   "mimetype": "text/x-python",
   "name": "python",
   "nbconvert_exporter": "python",
   "pygments_lexer": "ipython3",
   "version": "3.10.6"
  },
  "orig_nbformat": 4,
  "vscode": {
   "interpreter": {
    "hash": "916dbcbb3f70747c44a77c7bcd40155683ae19c65e1c03b4aa3499c5328201f1"
   }
  }
 },
 "nbformat": 4,
 "nbformat_minor": 2
}
