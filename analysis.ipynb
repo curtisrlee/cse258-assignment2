{
 "cells": [
  {
   "cell_type": "code",
   "execution_count": 7,
   "metadata": {},
   "outputs": [],
   "source": [
    "import pickle\n",
    "import numpy as np\n",
    "from matplotlib import pyplot as plt\n",
    "import os\n",
    "import pandas as pd"
   ]
  },
  {
   "cell_type": "code",
   "execution_count": 10,
   "metadata": {},
   "outputs": [
    {
     "name": "stdout",
     "output_type": "stream",
     "text": [
      "['Electronics_5.pkl', 'Grocery_and_Gourmet_Food_5.pkl', 'Home_and_Kitchen_5.pkl', 'Kindle_Store_5.pkl']\n"
     ]
    }
   ],
   "source": [
    "filepath_list = []\n",
    "for filepath in os.listdir('results'):\n",
    "    # print(filepath)\n",
    "    if filepath.split('.')[-1] == 'pkl':\n",
    "        filepath_list.append(filepath)\n",
    "filepath_list.sort()\n",
    "\n",
    "results = []\n",
    "for filepath in filepath_list:\n",
    "    with open(os.path.join('results', filepath), \"rb\") as pkl_file:\n",
    "        data = pickle.load(pkl_file)\n",
    "        results.append(data)\n",
    "\n",
    "print(filepath_list)"
   ]
  },
  {
   "cell_type": "code",
   "execution_count": 22,
   "metadata": {},
   "outputs": [
    {
     "data": {
      "text/html": [
       "<div>\n",
       "<style scoped>\n",
       "    .dataframe tbody tr th:only-of-type {\n",
       "        vertical-align: middle;\n",
       "    }\n",
       "\n",
       "    .dataframe tbody tr th {\n",
       "        vertical-align: top;\n",
       "    }\n",
       "\n",
       "    .dataframe thead th {\n",
       "        text-align: right;\n",
       "    }\n",
       "</style>\n",
       "<table border=\"1\" class=\"dataframe\">\n",
       "  <thead>\n",
       "    <tr style=\"text-align: right;\">\n",
       "      <th></th>\n",
       "      <th>name</th>\n",
       "      <th>test_loss</th>\n",
       "      <th>train_loss</th>\n",
       "      <th>split</th>\n",
       "      <th>factors</th>\n",
       "      <th>epochs</th>\n",
       "      <th>learning_rate</th>\n",
       "      <th>regularization</th>\n",
       "    </tr>\n",
       "  </thead>\n",
       "  <tbody>\n",
       "    <tr>\n",
       "      <th>3</th>\n",
       "      <td>Kindle_Store_5</td>\n",
       "      <td>0.800921</td>\n",
       "      <td>1.131375</td>\n",
       "      <td>100</td>\n",
       "      <td>5</td>\n",
       "      <td>80</td>\n",
       "      <td>0.1</td>\n",
       "      <td>0.0001</td>\n",
       "    </tr>\n",
       "    <tr>\n",
       "      <th>1</th>\n",
       "      <td>Grocery_and_Gourmet_Food_5</td>\n",
       "      <td>1.388837</td>\n",
       "      <td>1.053659</td>\n",
       "      <td>100</td>\n",
       "      <td>5</td>\n",
       "      <td>80</td>\n",
       "      <td>0.1</td>\n",
       "      <td>0.0001</td>\n",
       "    </tr>\n",
       "    <tr>\n",
       "      <th>2</th>\n",
       "      <td>Home_and_Kitchen_5</td>\n",
       "      <td>1.478005</td>\n",
       "      <td>3.429692</td>\n",
       "      <td>100</td>\n",
       "      <td>5</td>\n",
       "      <td>80</td>\n",
       "      <td>0.1</td>\n",
       "      <td>0.0001</td>\n",
       "    </tr>\n",
       "    <tr>\n",
       "      <th>0</th>\n",
       "      <td>Electronics_5</td>\n",
       "      <td>1.866048</td>\n",
       "      <td>3.296798</td>\n",
       "      <td>100</td>\n",
       "      <td>5</td>\n",
       "      <td>80</td>\n",
       "      <td>0.1</td>\n",
       "      <td>0.0001</td>\n",
       "    </tr>\n",
       "  </tbody>\n",
       "</table>\n",
       "</div>"
      ],
      "text/plain": [
       "                         name  test_loss  train_loss  split  factors  epochs  \\\n",
       "3              Kindle_Store_5   0.800921    1.131375    100        5      80   \n",
       "1  Grocery_and_Gourmet_Food_5   1.388837    1.053659    100        5      80   \n",
       "2          Home_and_Kitchen_5   1.478005    3.429692    100        5      80   \n",
       "0               Electronics_5   1.866048    3.296798    100        5      80   \n",
       "\n",
       "   learning_rate  regularization  \n",
       "3            0.1          0.0001  \n",
       "1            0.1          0.0001  \n",
       "2            0.1          0.0001  \n",
       "0            0.1          0.0001  "
      ]
     },
     "execution_count": 22,
     "metadata": {},
     "output_type": "execute_result"
    }
   ],
   "source": [
    "droppables = ['input',]\n",
    "\n",
    "results_flat = []\n",
    "\n",
    "for result in results:\n",
    "    # print(result['results'][-1])\n",
    "    entry = {}\n",
    "    entry.update({'name': os.path.split(result['batches_folder'])[1] })\n",
    "    entry.update({'train_loss': result['results'][-1]['obj']})\n",
    "    entry.update({'test_loss': result['results'][-1]['test:']})\n",
    "    entry.update(result['args'])\n",
    "    entry.update({'test_loss': result['dataset_len']})\n",
    "    results_flat.append(entry)\n",
    "\n",
    "df = pd.DataFrame(results_flat)\n",
    "df.drop(droppables, axis=1, inplace=True)\n",
    "df.insert(0, 'test_loss', df.pop('test_loss'))\n",
    "df.insert(0, 'name', df.pop('name'))\n",
    "df.sort_values(by='test_loss', ascending=True, inplace=True)\n",
    "df"
   ]
  },
  {
   "cell_type": "code",
   "execution_count": 52,
   "metadata": {},
   "outputs": [
    {
     "name": "stderr",
     "output_type": "stream",
     "text": [
      "/tmp/ipykernel_3695845/3568487087.py:3: FutureWarning: In future versions `DataFrame.to_latex` is expected to utilise the base implementation of `Styler.to_latex` for formatting and rendering. The arguments signature may therefore change. It is recommended instead to use `DataFrame.style.to_latex` which also contains additional functionality.\n",
      "  df.to_latex(tex_file)\n"
     ]
    }
   ],
   "source": [
    "df.to_csv('./results/results.csv')\n",
    "with open('./results/results.tex', 'w') as tex_file:\n",
    "    df.to_latex(tex_file)"
   ]
  }
 ],
 "metadata": {
  "kernelspec": {
   "display_name": "Python 3.9.12 ('base')",
   "language": "python",
   "name": "python3"
  },
  "language_info": {
   "codemirror_mode": {
    "name": "ipython",
    "version": 3
   },
   "file_extension": ".py",
   "mimetype": "text/x-python",
   "name": "python",
   "nbconvert_exporter": "python",
   "pygments_lexer": "ipython3",
   "version": "3.9.12"
  },
  "vscode": {
   "interpreter": {
    "hash": "c2c8b2dd7d4083bc367be64571948bb3c2c979e4a38ad29a2bfed21eda93f8d1"
   }
  }
 },
 "nbformat": 4,
 "nbformat_minor": 2
}
