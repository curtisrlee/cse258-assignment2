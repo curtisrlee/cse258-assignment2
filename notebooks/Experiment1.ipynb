{
 "cells": [
  {
   "cell_type": "code",
   "execution_count": 157,
   "id": "33dcfe5e",
   "metadata": {},
   "outputs": [],
   "source": [
    "import gzip\n",
    "import os\n",
    "import multiprocessing as mp\n",
    "import pickle\n",
    "import matplotlib.pyplot as plt\n",
    "import numpy\n",
    "import random\n",
    "import sklearn\n",
    "import string\n",
    "import math\n",
    "import numpy as np\n",
    "import time\n",
    "from collections import defaultdict\n",
    "from gensim.models import Word2Vec\n",
    "from nltk.stem.porter import *\n",
    "from sklearn import linear_model\n",
    "from sklearn.manifold import TSNE"
   ]
  },
  {
   "cell_type": "code",
   "execution_count": 10,
   "id": "4c40c090",
   "metadata": {},
   "outputs": [],
   "source": [
    "data_name = 'Clothing_Shoes_and_Jewelry_5'\n",
    "data_file = 'data/%s.json.gz' % data_name\n",
    "batches_folder = 'data/%s' % data_name\n",
    "num_threads = mp.cpu_count()\n",
    "batch_size = 8192"
   ]
  },
  {
   "cell_type": "code",
   "execution_count": 11,
   "id": "ebe8c7e8",
   "metadata": {
    "scrolled": true
   },
   "outputs": [
    {
     "name": "stdout",
     "output_type": "stream",
     "text": [
      "1377\n"
     ]
    }
   ],
   "source": [
    "all_files = os.listdir(batches_folder)\n",
    "all_files = [ os.path.join(batches_folder, name) for name in all_files ]\n",
    "pkl_files = [ name for name in all_files if '.pkl' in name ]\n",
    "pkl_files.sort()\n",
    "print(len(pkl_files))"
   ]
  },
  {
   "cell_type": "code",
   "execution_count": 90,
   "id": "ad8eea0f",
   "metadata": {},
   "outputs": [],
   "source": [
    "def count_entries(pkl_file):\n",
    "    with open(pkl_file, 'rb') as file_read:\n",
    "        items = pickle.load(file_read)\n",
    "    return len(items)"
   ]
  },
  {
   "cell_type": "code",
   "execution_count": 91,
   "id": "86069d16",
   "metadata": {},
   "outputs": [
    {
     "name": "stdout",
     "output_type": "stream",
     "text": [
      "11280384\n"
     ]
    }
   ],
   "source": [
    "with mp.Pool(num_threads) as p:\n",
    "    batch_lens = p.map(count_entries, pkl_files)\n",
    "dataset_len = sum(batch_lens)\n",
    "print(dataset_len)"
   ]
  },
  {
   "cell_type": "code",
   "execution_count": 14,
   "id": "6095731f",
   "metadata": {},
   "outputs": [],
   "source": [
    "punctuation = set(string.punctuation)"
   ]
  },
  {
   "cell_type": "code",
   "execution_count": 59,
   "id": "a8224991",
   "metadata": {},
   "outputs": [],
   "source": [
    "def count_words(pkl_file):\n",
    "    word_count_batch = defaultdict(int)\n",
    "    with open(pkl_file, 'rb') as file_read:\n",
    "        items = pickle.load(file_read)\n",
    "        for item in items:\n",
    "            try:\n",
    "                review = item['reviewText']\n",
    "            except KeyError:\n",
    "                continue\n",
    "            review = ''.join([c for c in review.lower() if not c in punctuation])\n",
    "            for w in review.split():\n",
    "                word_count_batch[w] += 1\n",
    "    return word_count_batch"
   ]
  },
  {
   "cell_type": "code",
   "execution_count": 60,
   "id": "a03d2336",
   "metadata": {},
   "outputs": [],
   "source": [
    "with mp.Pool(num_threads) as p:\n",
    "    word_count_batches = p.map(count_words, pkl_files)"
   ]
  },
  {
   "cell_type": "code",
   "execution_count": 61,
   "id": "42d4877f",
   "metadata": {
    "scrolled": false
   },
   "outputs": [
    {
     "data": {
      "text/plain": [
       "1377"
      ]
     },
     "execution_count": 61,
     "metadata": {},
     "output_type": "execute_result"
    }
   ],
   "source": [
    "len(word_count_batches)"
   ]
  },
  {
   "cell_type": "code",
   "execution_count": 62,
   "id": "8522b425",
   "metadata": {},
   "outputs": [],
   "source": [
    "word_count = defaultdict(int)\n",
    "for word_count_batch in word_count_batches:\n",
    "    for w in word_count_batch:\n",
    "        word_count[w] += word_count_batch[w]"
   ]
  },
  {
   "cell_type": "code",
   "execution_count": 67,
   "id": "54ba12ab",
   "metadata": {
    "scrolled": true
   },
   "outputs": [
    {
     "data": {
      "text/plain": [
       "755779"
      ]
     },
     "execution_count": 67,
     "metadata": {},
     "output_type": "execute_result"
    }
   ],
   "source": [
    "len(word_count)"
   ]
  },
  {
   "cell_type": "code",
   "execution_count": 68,
   "id": "89435ba2",
   "metadata": {
    "scrolled": true
   },
   "outputs": [
    {
     "data": {
      "text/plain": [
       "10533"
      ]
     },
     "execution_count": 68,
     "metadata": {},
     "output_type": "execute_result"
    }
   ],
   "source": [
    "len(word_count_batch)"
   ]
  },
  {
   "cell_type": "code",
   "execution_count": 69,
   "id": "1741f438",
   "metadata": {},
   "outputs": [],
   "source": [
    "counts = [(word_count[w], w) for w in word_count]\n",
    "counts.sort()\n",
    "counts.reverse()"
   ]
  },
  {
   "cell_type": "code",
   "execution_count": null,
   "id": "0599e882",
   "metadata": {},
   "outputs": [],
   "source": []
  },
  {
   "cell_type": "code",
   "execution_count": 165,
   "id": "58b4ce44",
   "metadata": {},
   "outputs": [],
   "source": [
    "def count_df(pkl_file):\n",
    "    word_count_batch = defaultdict(int)\n",
    "    with open(pkl_file, 'rb') as file_read:\n",
    "        items = pickle.load(file_read)\n",
    "        for item in items:\n",
    "            try:\n",
    "                review = item['reviewText']\n",
    "            except KeyError:\n",
    "                continue\n",
    "            review = ''.join([c for c in review.lower() if not c in punctuation])\n",
    "            for w in set(review.split()):\n",
    "                word_count_batch[w] += 1\n",
    "    return word_count_batch"
   ]
  },
  {
   "cell_type": "code",
   "execution_count": 166,
   "id": "3a53e44a",
   "metadata": {},
   "outputs": [],
   "source": [
    "with mp.Pool(num_threads) as p:\n",
    "    df_batches = p.map(count_words, pkl_files)"
   ]
  },
  {
   "cell_type": "code",
   "execution_count": 167,
   "id": "d96d356c",
   "metadata": {},
   "outputs": [],
   "source": [
    "df = defaultdict(int)\n",
    "for df_batch in df_batches:\n",
    "    for w in df_batch:\n",
    "        df[w] += df_batch[w]"
   ]
  },
  {
   "cell_type": "code",
   "execution_count": 226,
   "id": "bf41d7d0",
   "metadata": {},
   "outputs": [
    {
     "data": {
      "text/plain": [
       "{'overall': 4.0,\n",
       " 'verified': True,\n",
       " 'reviewTime': '11 19, 2014',\n",
       " 'reviewerID': 'A3F0HOL1IZJMO3',\n",
       " 'asin': '3979050432',\n",
       " 'reviewerName': 'michele',\n",
       " 'reviewText': \"I rated this rating because I had been looking for some of these face ski mask last year for my husband, but couldn't find one anywhere. He was very happy when I gave these to him, because he works loading semi trucks and it is very cold. this face ski mask will block the cold from his face and neck area. He started wearing one last week and he likes it and I would recommend these to anyone who works in very cold weather.\",\n",
       " 'summary': 'He was very happy when I gave these to him',\n",
       " 'unixReviewTime': 1416355200}"
      ]
     },
     "execution_count": 226,
     "metadata": {},
     "output_type": "execute_result"
    }
   ],
   "source": [
    "# only first batch bc way too much data\n",
    "with open(pkl_files[0], 'rb') as file_read:\n",
    "    items = pickle.load(file_read)\n",
    "    rev = items[91]\n",
    "rev"
   ]
  },
  {
   "cell_type": "code",
   "execution_count": 228,
   "id": "84ece819",
   "metadata": {},
   "outputs": [],
   "source": [
    "tf = defaultdict(int)\n",
    "r = ''.join([c for c in rev['reviewText'].lower() if not c in punctuation])\n",
    "for w in r.split():\n",
    "    # Note = rather than +=, different versions of tf could be used instead\n",
    "    tf[w] = 1\n",
    "    \n",
    "tfidf = dict(zip(words,[tf[w] * math.log2(dataset_len / df[w]) for w in words]))\n",
    "tfidfQuery = [tf[w] * np.log2(dataset_len / df[w]) for w in words]"
   ]
  },
  {
   "cell_type": "code",
   "execution_count": 230,
   "id": "5b94c71c",
   "metadata": {},
   "outputs": [
    {
     "data": {
      "text/plain": [
       "[(14.098637916807016, 'trucks'),\n",
       " (13.84423007663203, 'loading'),\n",
       " (11.788876930144493, 'semi'),\n",
       " (11.462971976342546, 'ski'),\n",
       " (10.885974186164137, 'block'),\n",
       " (10.507890819799911, 'rated'),\n",
       " (9.021705984774108, 'mask'),\n",
       " (8.837252165174101, 'rating'),\n",
       " (8.693767840377888, 'anywhere'),\n",
       " (7.428524110335686, 'started'),\n",
       " (7.346994951177826, 'neck'),\n",
       " (7.21443653240131, 'face'),\n",
       " (7.097253801279108, 'anyone'),\n",
       " (7.076977903847522, 'weather'),\n",
       " (7.0059711839600105, 'likes'),\n",
       " (6.963932160023441, 'week'),\n",
       " (6.856093489696655, 'couldnt'),\n",
       " (6.736987421598345, 'cold'),\n",
       " (6.567596082334974, 'gave'),\n",
       " (6.560842854286377, 'area')]"
      ]
     },
     "execution_count": 230,
     "metadata": {},
     "output_type": "execute_result"
    }
   ],
   "source": [
    "maxTf = [(tf[w],w) for w in words]\n",
    "maxTf.sort(reverse=True)\n",
    "maxTfIdf = [(tfidf[w],w) for w in words]\n",
    "maxTfIdf.sort(reverse=True)\n",
    "maxTfIdf[:20]"
   ]
  },
  {
   "cell_type": "code",
   "execution_count": 231,
   "id": "e1fbc731",
   "metadata": {},
   "outputs": [],
   "source": [
    "def Cosine(x1,x2):\n",
    "    x1 = np.array(x1)\n",
    "    x2 = np.array(x2)\n",
    "    numer = 0\n",
    "    norm1 = 0\n",
    "    norm2 = 0\n",
    "    numer = np.sum(x1*x2)\n",
    "    norm1 = np.sum(np.square(x1))\n",
    "    norm2 = np.sum(np.square(x2))\n",
    "    if norm1*norm2:\n",
    "        return numer / np.sqrt(norm1*norm2)\n",
    "    return 0"
   ]
  },
  {
   "cell_type": "code",
   "execution_count": 232,
   "id": "989f9889",
   "metadata": {},
   "outputs": [],
   "source": [
    "with open(pkl_files[0], 'rb') as file_read:\n",
    "    items = pickle.load(file_read)"
   ]
  },
  {
   "cell_type": "code",
   "execution_count": 235,
   "id": "2054e81e",
   "metadata": {},
   "outputs": [],
   "source": [
    "def get_similarities(rev2):\n",
    "    if 'reviewText' not in rev2:\n",
    "        return 0.0, ''\n",
    "    tf = defaultdict(int)\n",
    "    r = ''.join([c for c in rev2['reviewText'].lower() if not c in punctuation])\n",
    "    for w in r.split():\n",
    "        # Note = rather than +=\n",
    "        tf[w] = 1\n",
    "    tfidf2 = [tf[w] * np.log2(dataset_len / df[w]) for w in words]\n",
    "    return Cosine(tfidfQuery, tfidf2), rev2['reviewText']"
   ]
  },
  {
   "cell_type": "code",
   "execution_count": 236,
   "id": "264bd5a5",
   "metadata": {},
   "outputs": [
    {
     "data": {
      "text/plain": [
       "8192"
      ]
     },
     "execution_count": 236,
     "metadata": {},
     "output_type": "execute_result"
    }
   ],
   "source": [
    "len(items)"
   ]
  },
  {
   "cell_type": "code",
   "execution_count": 237,
   "id": "924182c6",
   "metadata": {},
   "outputs": [
    {
     "name": "stdout",
     "output_type": "stream",
     "text": [
      "--- 593.2944765090942 seconds ---\n"
     ]
    }
   ],
   "source": [
    "start_time = time.time()\n",
    "with mp.Pool(num_threads) as p:\n",
    "    similarities = p.map(get_similarities, items)\n",
    "print(\"--- %s seconds ---\" % (time.time() - start_time))"
   ]
  },
  {
   "cell_type": "code",
   "execution_count": 238,
   "id": "ed745c67",
   "metadata": {
    "scrolled": false
   },
   "outputs": [
    {
     "data": {
      "text/plain": [
       "[(1.0,\n",
       "  \"I rated this rating because I had been looking for some of these face ski mask last year for my husband, but couldn't find one anywhere. He was very happy when I gave these to him, because he works loading semi trucks and it is very cold. this face ski mask will block the cold from his face and neck area. He started wearing one last week and he likes it and I would recommend these to anyone who works in very cold weather.\"),\n",
       " (0.1938419680951804,\n",
       "  \"Love them so much! Expensive but I couldn't find them anywhere else.\"),\n",
       " (0.19031869125109166,\n",
       "  \"The color is just as it shows. I'm just so happy to have these, couldn't for the life of me find them anywhere else\"),\n",
       " (0.18957987918129757, \"Great couldn't have been more happy\"),\n",
       " (0.18102312304951182, 'Fits great and looks great. Semi Dressy shirt..'),\n",
       " (0.18080340220426322,\n",
       "  'My daughter loves these shoes and would recommend to anyone looking.'),\n",
       " (0.17672856492207226,\n",
       "  \"It's a ski mask.  It covers your face, minus your eyes and mouth.  It keeps my husband's face warm at work.  There's not much more to say!\"),\n",
       " (0.15901687928457447,\n",
       "  'no more frozen face while working out doors in this cold weather. im double up with another face mask i have and i stay nice n warm.'),\n",
       " (0.15609161473036215, 'Cool mask!'),\n",
       " (0.15577316866365284,\n",
       "  'I bought these for my son and he loves them. They fit as expected and are very comfortable. We definitely recommend them to anyone looking.'),\n",
       " (0.15198359199913375, 'Works as expected, very happy.'),\n",
       " (0.151564020021723,\n",
       "  'Happy with it.  Good value for the money an would recommend it to someone who is looking to purchase one.'),\n",
       " (0.15093431618286826,\n",
       "  'Son really likes the face mask. We have had such a rough winter and this has helped in as he waits to get on the bus.'),\n",
       " (0.15079400655127928,\n",
       "  \"Its comfortable, feels just like a facemask should. The holes are big enough to accommodate different sized faces, which is nice, gives it a 'one size fits all' appeal. Other than that? Its a ski mask. It'll keep your face warm.\"),\n",
       " (0.14739287309077825,\n",
       "  'My son has always liked this type of ski mask. This one is of excellent quality and construction. Iconic bank robber look.'),\n",
       " (0.14177700996025963,\n",
       "  'This mask keeps my face warm for hours while shoveling snow.  I get strange looks from my family when I wear it though.  I would recommend getting a different color than black.'),\n",
       " (0.1416954084405233,\n",
       "  'fits my son perfectly and he actually likes wearing this'),\n",
       " (0.14162229898460477,\n",
       "  'keeps me warm, maybe a bit too warm but still totally worth it. i look so cool smokin outside in my ski mask, all the other kids are jealous. buy this mask.'),\n",
       " (0.14055106153864927,\n",
       "  'I purchased these boots for my son last year and this year. Durable, goes well with jeans or sweat pants. Love them for school and cold weather ( not snow).'),\n",
       " (0.13835000376748027,\n",
       "  'I recently got a pair from a friend who was going to throw his pair away when he got a new one, and I fell in love with the Low Top style Chucks.  Before this, I had always worn the High Tops and never thought anything about getting the Low Tops. They are comfortable and match almost everything you throw at it. I get compliments every day when I wear them! They never go out of style, and only look better the older they get. These shoes last a very long time, and I am sure it will be another year or two before I have to buy myself a pair. I would recommend these shoes for anyone who loves staying fashionable and trendy for a cheap price.')]"
      ]
     },
     "execution_count": 238,
     "metadata": {},
     "output_type": "execute_result"
    }
   ],
   "source": [
    "similarities.sort(reverse=True)\n",
    "similarities[:20]"
   ]
  },
  {
   "cell_type": "code",
   "execution_count": null,
   "id": "5d6c0554",
   "metadata": {},
   "outputs": [],
   "source": []
  },
  {
   "cell_type": "code",
   "execution_count": null,
   "id": "708602d2",
   "metadata": {},
   "outputs": [],
   "source": []
  }
 ],
 "metadata": {
  "kernelspec": {
   "display_name": "base",
   "language": "python",
   "name": "base"
  },
  "language_info": {
   "codemirror_mode": {
    "name": "ipython",
    "version": 3
   },
   "file_extension": ".py",
   "mimetype": "text/x-python",
   "name": "python",
   "nbconvert_exporter": "python",
   "pygments_lexer": "ipython3",
   "version": "3.9.12"
  }
 },
 "nbformat": 4,
 "nbformat_minor": 5
}
