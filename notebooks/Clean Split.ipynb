{
 "cells": [
  {
   "cell_type": "code",
   "execution_count": 1,
   "id": "aeb34824",
   "metadata": {},
   "outputs": [],
   "source": [
    "import gzip\n",
    "import os\n",
    "import multiprocessing as mp\n",
    "import pickle"
   ]
  },
  {
   "cell_type": "code",
   "execution_count": 2,
   "id": "fec4d61a",
   "metadata": {},
   "outputs": [],
   "source": [
    "data_name = 'Clothing_Shoes_and_Jewelry_5'\n",
    "data_file = 'data/%s.json.gz' % data_name\n",
    "batches_folder = 'data/%s' % data_name\n",
    "num_threads = mp.cpu_count()\n",
    "batch_size = 8192"
   ]
  },
  {
   "cell_type": "code",
   "execution_count": 3,
   "id": "fadce821",
   "metadata": {},
   "outputs": [],
   "source": [
    "def get_next_filename(prefix='batch', suffix='pkl'):\n",
    "    number = 0\n",
    "    while True:\n",
    "        number += 1\n",
    "        yield '%s_%06d.%s' % (prefix, number, suffix)"
   ]
  },
  {
   "cell_type": "code",
   "execution_count": 4,
   "id": "1458f96f",
   "metadata": {},
   "outputs": [],
   "source": [
    "lines = []\n",
    "name_gen = get_next_filename(batches_folder+'/batch', 'json')\n",
    "os.makedirs(batches_folder, exist_ok=True) \n",
    "\n",
    "with open('data/Clothing_Shoes_and_Jewelry_5.json', 'rt') as file_read:\n",
    "    for line in file_read:\n",
    "        lines.append(line)\n",
    "        if len(lines) == batch_size:\n",
    "            filepath = next(name_gen)\n",
    "            with open(filepath, 'wt') as file_write:\n",
    "                file_write.writelines(lines)\n",
    "            lines = []"
   ]
  },
  {
   "cell_type": "code",
   "execution_count": 5,
   "id": "29e58602",
   "metadata": {
    "scrolled": true
   },
   "outputs": [
    {
     "data": {
      "text/plain": [
       "1377"
      ]
     },
     "execution_count": 5,
     "metadata": {},
     "output_type": "execute_result"
    }
   ],
   "source": [
    "batch_files = os.listdir(batches_folder)\n",
    "batch_files = [ name for name in batch_files if '.json' in name ]\n",
    "batch_files.sort()\n",
    "batch_files = [ os.path.join(batches_folder, name) for name in batch_files ]\n",
    "len(batch_files)"
   ]
  },
  {
   "cell_type": "code",
   "execution_count": 6,
   "id": "70372116",
   "metadata": {},
   "outputs": [],
   "source": [
    "def itemize(batch_file):\n",
    "    with open(batch_file, 'r') as file_read:\n",
    "        lines = file_read.readlines()\n",
    "    items =  [ eval(line.replace('true', 'True').replace('false', 'False')) for line in lines ] \n",
    "    new_name = batch_file.split('.')[0]+'.pkl'\n",
    "    with open(new_name, 'wb') as file_write:\n",
    "        pickle.dump(items, file_write)\n",
    "    return len(items)"
   ]
  },
  {
   "cell_type": "code",
   "execution_count": 7,
   "id": "4ac6fa67",
   "metadata": {
    "scrolled": true
   },
   "outputs": [],
   "source": [
    "with mp.Pool(num_threads) as p:\n",
    "    items_batched_count = p.map(itemize, batch_files)"
   ]
  },
  {
   "cell_type": "code",
   "execution_count": 8,
   "id": "71dbf1f7",
   "metadata": {
    "scrolled": true
   },
   "outputs": [
    {
     "data": {
      "text/plain": [
       "1377"
      ]
     },
     "execution_count": 8,
     "metadata": {},
     "output_type": "execute_result"
    }
   ],
   "source": [
    "batch_files = os.listdir(batches_folder)\n",
    "batch_files = [ name for name in batch_files if '.pkl' in name ]\n",
    "batch_files.sort()\n",
    "batch_files = [ os.path.join(batches_folder, name) for name in batch_files ]\n",
    "len(batch_files)"
   ]
  },
  {
   "cell_type": "code",
   "execution_count": 9,
   "id": "c6d4bca8",
   "metadata": {
    "scrolled": true
   },
   "outputs": [],
   "source": [
    "for batch_file in batch_files:\n",
    "    with open(batch_file, 'rb') as file_read:\n",
    "        lines = pickle.load(file_read)\n",
    "    break"
   ]
  },
  {
   "cell_type": "code",
   "execution_count": 10,
   "id": "b94bf1c2",
   "metadata": {
    "scrolled": true
   },
   "outputs": [
    {
     "data": {
      "text/plain": [
       "{'overall': 5.0,\n",
       " 'vote': '2',\n",
       " 'verified': True,\n",
       " 'reviewTime': '05 4, 2014',\n",
       " 'reviewerID': 'A2IC3NZN488KWK',\n",
       " 'asin': '0871167042',\n",
       " 'style': {'Format:': ' Paperback'},\n",
       " 'reviewerName': 'Ruby Tulip',\n",
       " 'reviewText': 'This book has beautiful photos, good and understandable directions, and many different kinds of jewelry.  Wire working and metalsmithing jewelry are covered.  Highly recommend this book.',\n",
       " 'summary': 'Unique designs',\n",
       " 'unixReviewTime': 1399161600}"
      ]
     },
     "execution_count": 10,
     "metadata": {},
     "output_type": "execute_result"
    }
   ],
   "source": [
    "lines[0]"
   ]
  },
  {
   "cell_type": "code",
   "execution_count": 41,
   "id": "362f38ca",
   "metadata": {},
   "outputs": [
    {
     "name": "stdout",
     "output_type": "stream",
     "text": [
      "1377 1377\n"
     ]
    }
   ],
   "source": [
    "all_files = os.listdir(batches_folder)\n",
    "all_files = [ os.path.join(batches_folder, name) for name in all_files ]\n",
    "json_files = [ name for name in all_files if '.json' in name ]\n",
    "json_files.sort()\n",
    "pkl_files = [ name for name in all_files if '.pkl' in name ]\n",
    "pkl_files.sort()\n",
    "print(len(json_files), len(pkl_files))\n",
    "assert len(json_files) == len(pkl_files)"
   ]
  },
  {
   "cell_type": "code",
   "execution_count": 42,
   "id": "6748f901",
   "metadata": {},
   "outputs": [
    {
     "name": "stdout",
     "output_type": "stream",
     "text": [
      "{'image': ['https://images-na.ssl-images-amazon.com/images/I/51rFo+LoQDL._SY88.jpg'], 'overall': 5.0, 'verified': True, 'reviewTime': '04 15, 2018', 'reviewerID': 'AIA1NXRDU69S4', 'asin': 'B01H0F99TA', 'style': {'Size:': ' 12 m', 'Color:': ' Bright Red'}, 'reviewerName': 'SherrySeattle', 'reviewText': 'This is one of the cutest outfits ever.  Im buying a second one for my daughter.  I can tell she loves it.  Very soft and stretchy and comfortable.  Shes a year old and the 12 month fits her great.', 'summary': 'A must have', 'unixReviewTime': 1523750400}\n"
     ]
    }
   ],
   "source": [
    "with open(pkl_files[-1], 'rb') as file_read:\n",
    "    lines = pickle.load(file_read)\n",
    "    final_line_pkl = lines[0]\n",
    "print(final_line_pkl)"
   ]
  },
  {
   "cell_type": "code",
   "execution_count": 47,
   "id": "f787d06f",
   "metadata": {},
   "outputs": [
    {
     "name": "stdout",
     "output_type": "stream",
     "text": [
      "{\"image\": [\"https://images-na.ssl-images-amazon.com/images/I/51rFo+LoQDL._SY88.jpg\"], \"overall\": 5.0, \"verified\": true, \"reviewTime\": \"04 15, 2018\", \"reviewerID\": \"AIA1NXRDU69S4\", \"asin\": \"B01H0F99TA\", \"style\": {\"Size:\": \" 12 m\", \"Color:\": \" Bright Red\"}, \"reviewerName\": \"SherrySeattle\", \"reviewText\": \"This is one of the cutest outfits ever.  Im buying a second one for my daughter.  I can tell she loves it.  Very soft and stretchy and comfortable.  Shes a year old and the 12 month fits her great.\", \"summary\": \"A must have\", \"unixReviewTime\": 1523750400}\n",
      "\n"
     ]
    }
   ],
   "source": [
    "with open(json_files[-1], 'r') as file_read:\n",
    "    lines = file_read.readlines()\n",
    "    final_line_json = lines[0]\n",
    "print(final_line_json)"
   ]
  },
  {
   "cell_type": "code",
   "execution_count": 48,
   "id": "7421988d",
   "metadata": {},
   "outputs": [],
   "source": [
    "final_line_json = eval(final_line_json.replace('true', 'True').replace('false', 'False'))\n",
    "assert final_line_pkl == final_line_json"
   ]
  }
 ],
 "metadata": {
  "kernelspec": {
   "display_name": "Python 3 (ipykernel)",
   "language": "python",
   "name": "python3"
  },
  "language_info": {
   "codemirror_mode": {
    "name": "ipython",
    "version": 3
   },
   "file_extension": ".py",
   "mimetype": "text/x-python",
   "name": "python",
   "nbconvert_exporter": "python",
   "pygments_lexer": "ipython3",
   "version": "3.8.10"
  }
 },
 "nbformat": 4,
 "nbformat_minor": 5
}
